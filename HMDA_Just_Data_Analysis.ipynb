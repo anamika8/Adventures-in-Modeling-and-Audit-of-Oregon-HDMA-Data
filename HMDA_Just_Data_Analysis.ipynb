{
  "nbformat": 4,
  "nbformat_minor": 0,
  "metadata": {
    "colab": {
      "provenance": []
    },
    "kernelspec": {
      "name": "python3",
      "display_name": "Python 3"
    },
    "language_info": {
      "name": "python"
    }
  },
  "cells": [
    {
      "cell_type": "code",
      "execution_count": null,
      "metadata": {
        "id": "SB6fM76wpORd"
      },
      "outputs": [],
      "source": [
        "import numpy as np\n",
        "import pandas as pd\n",
        "import tensorflow as tf\n",
        "\n",
        "from sklearn.model_selection import train_test_split\n",
        "from sklearn.preprocessing import MinMaxScaler\n",
        "from sklearn.preprocessing import StandardScaler\n",
        "from sklearn.preprocessing import MaxAbsScaler\n",
        "from sklearn.metrics import confusion_matrix"
      ]
    },
    {
      "cell_type": "code",
      "source": [
        "from google.colab import drive\n",
        "drive.mount('/content/drive')"
      ],
      "metadata": {
        "colab": {
          "base_uri": "https://localhost:8080/"
        },
        "id": "ZbKkceJNpbuD",
        "outputId": "c9cd86e1-fb8f-4e4e-cf52-335aad3b27b9"
      },
      "execution_count": null,
      "outputs": [
        {
          "output_type": "stream",
          "name": "stdout",
          "text": [
            "Mounted at /content/drive\n"
          ]
        }
      ]
    },
    {
      "cell_type": "markdown",
      "source": [
        "# Problem Statement"
      ],
      "metadata": {
        "id": "TpppVGrPprF2"
      }
    },
    {
      "cell_type": "markdown",
      "source": [
        "## Background\n",
        "\n",
        "\"The Home Mortgage Disclosure Act (HMDA) requires many financial institutions to maintain, report, and publicly disclose loan-level information about mortgages. These data help show whether lenders are serving the housing needs of their communities; they give public officials information that helps them make decisions and policies; and they shed light on lending patterns that could be discriminatory. The public data are modified to protect applicant and borrower privacy.\n",
        "\n",
        "HMDA was originally enacted by Congress in 1975 and is implemented by Regulation C.\" - [source](https://www.consumerfinance.gov/data-research/hmda/)"
      ],
      "metadata": {
        "id": "KRqaIBoZptm0"
      }
    },
    {
      "cell_type": "markdown",
      "source": [
        "## Resources\n",
        "\n",
        "[Download the Dataset](https://ffiec.cfpb.gov/data-browser/data/2021?category=states&items=OR)\n",
        "\n",
        "[2021 HMDA Documentation](https://ffiec.cfpb.gov/documentation/2021/)\n",
        "\n",
        "[2021 data-feild specification](https://ffiec.cfpb.gov/documentation/2021/lar-data-fields/)\n",
        "\n",
        "[2021 HMDA Guide](https://www.ffiec.gov/hmda/pdf/2021Guide.pdf)"
      ],
      "metadata": {
        "id": "kDEPaukxpxgn"
      }
    },
    {
      "cell_type": "markdown",
      "source": [
        "# Data Loading"
      ],
      "metadata": {
        "id": "jkSbLAm7p3z8"
      }
    },
    {
      "cell_type": "code",
      "source": [
        "path = '/content/drive/MyDrive/CS510_CulturalCompetenceInComputing/Final submission/'"
      ],
      "metadata": {
        "id": "yDdCYUo5p1ni"
      },
      "execution_count": null,
      "outputs": []
    },
    {
      "cell_type": "code",
      "source": [
        "df_2021 = pd.read_csv(path + '2021_state_OR.csv')\n",
        "df_2020 = pd.read_csv(path + '2020_state_OR.csv')\n",
        "df_2019 = pd.read_csv(path + '2019_state_OR.csv')\n",
        "df_2018 = pd.read_csv(path + '2018_state_OR.csv')"
      ],
      "metadata": {
        "colab": {
          "base_uri": "https://localhost:8080/"
        },
        "id": "_hIJURnAqBk3",
        "outputId": "d3e8fa62-6162-47f4-a22d-ce6534dea966"
      },
      "execution_count": null,
      "outputs": [
        {
          "output_type": "stream",
          "name": "stderr",
          "text": [
            "<ipython-input-4-bff08d619a5e>:1: DtypeWarning: Columns (5,22,23,24,26,27,28,29,30,31,32,33,38,43,44) have mixed types. Specify dtype option on import or set low_memory=False.\n",
            "  df_2021 = pd.read_csv(path + '2021_state_OR.csv')\n",
            "<ipython-input-4-bff08d619a5e>:2: DtypeWarning: Columns (22,23,24,26,27,28,29,30,31,32,33,38,43,44) have mixed types. Specify dtype option on import or set low_memory=False.\n",
            "  df_2020 = pd.read_csv(path + '2020_state_OR.csv')\n",
            "<ipython-input-4-bff08d619a5e>:3: DtypeWarning: Columns (22,23,24,26,27,28,29,30,31,32,33,38,43,44) have mixed types. Specify dtype option on import or set low_memory=False.\n",
            "  df_2019 = pd.read_csv(path + '2019_state_OR.csv')\n",
            "<ipython-input-4-bff08d619a5e>:4: DtypeWarning: Columns (22,23,24,26,27,28,29,30,31,32,33,38,43,44) have mixed types. Specify dtype option on import or set low_memory=False.\n",
            "  df_2018 = pd.read_csv(path + '2018_state_OR.csv')\n"
          ]
        }
      ]
    },
    {
      "cell_type": "code",
      "source": [
        "print(f\"df_2021 = {len(df_2021)}\")\n",
        "print(f\"df_2020 = {len(df_2020)}\")\n",
        "print(f\"df_2019 = {len(df_2019)}\")\n",
        "print(f\"df_2018 = {len(df_2018)}\")\n",
        "print(f\"{len(df_2018) + len(df_2019) + len(df_2020) + len(df_2021)} total\")"
      ],
      "metadata": {
        "colab": {
          "base_uri": "https://localhost:8080/"
        },
        "id": "CiCyjz6wqF9x",
        "outputId": "c104260f-4498-49ea-f77e-b24e8558ed52"
      },
      "execution_count": null,
      "outputs": [
        {
          "output_type": "stream",
          "name": "stdout",
          "text": [
            "df_2021 = 391601\n",
            "df_2020 = 400029\n",
            "df_2019 = 265274\n",
            "df_2018 = 229722\n",
            "1286626 total\n"
          ]
        }
      ]
    },
    {
      "cell_type": "code",
      "source": [
        "for i, col in enumerate(df_2021.columns):\n",
        "    \n",
        "    if(df_2020.columns[i] != col):\n",
        "        print(f\"df_2021[{i:02.0f}] = {col}\")\n",
        "        print(f\"df_2020[{i:02.0f}] = {df_2020.columns[i]}\")\n",
        "    if(df_2019.columns[i] != col):\n",
        "        print(f\"df_2021[{i:02.0f}] = {col}\")\n",
        "        print(f\"df_2019[{i:02.0f}] = {df_2019.columns[i]}\")\n",
        "    if(df_2018.columns[i] != col):\n",
        "        print(f\"df_2021[{i:02.0f}] = {col}\")\n",
        "        print(f\"df_2018[{i:02.0f}] = {df_2018.columns[i]}\")"
      ],
      "metadata": {
        "id": "WiI2Z6IbqJ3u"
      },
      "execution_count": null,
      "outputs": []
    },
    {
      "cell_type": "code",
      "source": [
        "frames = [df_2021, df_2020, df_2019, df_2018]\n",
        "#frames = [df_2021, df_2020, df_2019]\n",
        "#frames = [df_2021]\n",
        "df_read = pd.concat(frames).reset_index(drop=True)"
      ],
      "metadata": {
        "id": "fExZB_bCqP2W"
      },
      "execution_count": null,
      "outputs": []
    },
    {
      "cell_type": "code",
      "source": [
        "df = df_read[[\n",
        "        # Label Field\n",
        "        'action_taken',\n",
        "\n",
        "        # Input Fields\n",
        "        'loan_type',\n",
        "        'loan_purpose',\n",
        "        'business_or_commercial_purpose',\n",
        "        'loan_to_value_ratio',\n",
        "        'interest_rate',\n",
        "        'hoepa_status',\n",
        "        'loan_term',\n",
        "        'property_value',\n",
        "        'construction_method',\n",
        "        'occupancy_type',\n",
        "        'income',\n",
        "        'debt_to_income_ratio',\n",
        "        'submission_of_application',\n",
        "        'aus-1',\n",
        "\n",
        "        # Audit Feilds\n",
        "        'derived_sex',\n",
        "        'derived_race',\n",
        "        'derived_ethnicity'\n",
        "       ]]"
      ],
      "metadata": {
        "id": "0lFhcl4cqTdC"
      },
      "execution_count": null,
      "outputs": []
    },
    {
      "cell_type": "code",
      "source": [
        "df = df.sample(frac=1)"
      ],
      "metadata": {
        "id": "NIe1Zck-qWKO"
      },
      "execution_count": null,
      "outputs": []
    },
    {
      "cell_type": "markdown",
      "source": [
        "# Data Filtering"
      ],
      "metadata": {
        "id": "jSTiZ08OqbFl"
      }
    },
    {
      "cell_type": "code",
      "source": [
        "df['action_taken'] = df['action_taken'].replace(1, 1)\n",
        "df['action_taken'] = df['action_taken'].replace(2, 1)\n",
        "df['action_taken'] = df['action_taken'].replace(3, 0)"
      ],
      "metadata": {
        "id": "f1BkRWEAqegX"
      },
      "execution_count": null,
      "outputs": []
    },
    {
      "cell_type": "code",
      "source": [
        "df = df.drop(df[df.action_taken > 3].index).reset_index(drop=True)\n",
        "\n",
        "df = df.drop(df[df.derived_race == 'Free Form Text Only'].index).reset_index(drop=True)\n",
        "df = df.drop(df[df.derived_race == 'Race Not Available'].index).reset_index(drop=True)\n",
        "\n",
        "df = df.drop(df[df.derived_ethnicity == 'Free Form Text Only'].index).reset_index(drop=True)\n",
        "df = df.drop(df[df.derived_ethnicity == 'Ethnicity Not Available'].index).reset_index(drop=True)\n",
        "\n",
        "df = df.drop(df[df.derived_sex == 'Sex Not Available'].index).reset_index(drop=True)"
      ],
      "metadata": {
        "id": "2adAB-hnqhit"
      },
      "execution_count": null,
      "outputs": []
    },
    {
      "cell_type": "markdown",
      "source": [
        "# Data Preprocessor "
      ],
      "metadata": {
        "id": "Wxq07kKUqlX2"
      }
    },
    {
      "cell_type": "code",
      "source": [
        "input_features = [\n",
        "        'loan_type',\n",
        "        'loan_purpose',\n",
        "        'business_or_commercial_purpose',\n",
        "        'loan_to_value_ratio',\n",
        "        'interest_rate',\n",
        "        'hoepa_status',\n",
        "        'loan_term',\n",
        "        'property_value',\n",
        "        'construction_method',\n",
        "        'occupancy_type',\n",
        "        'income',\n",
        "        'debt_to_income_ratio',\n",
        "        'submission_of_application',\n",
        "        'aus-1'\n",
        "]\n",
        "\n",
        "label_features = ['action_taken']\n",
        "\n",
        "audit_features = [\n",
        "    'derived_sex',\n",
        "    'derived_race',\n",
        "    'derived_ethnicity'\n",
        "]"
      ],
      "metadata": {
        "id": "RBf8bQTOqosD"
      },
      "execution_count": null,
      "outputs": []
    },
    {
      "cell_type": "markdown",
      "source": [
        "# Bias Measurements"
      ],
      "metadata": {
        "id": "1f01ViNMqt5z"
      }
    },
    {
      "cell_type": "code",
      "source": [
        "def approval_rate_by_chosen_field(chosen_field):\n",
        "    \n",
        "    field_group = df.groupby(by=chosen_field)\n",
        "\n",
        "    n = len(field_group)\n",
        "    print(f\"We have {n} groups of values in '{chosen_field}'\")\n",
        "\n",
        "    group_approved_counts = [None] * n\n",
        "    group_counts = [None] * n\n",
        "    for i, group_name in enumerate(field_group.groups):\n",
        "        group_list = df[chosen_field] == group_name\n",
        "        group_count = len(df[group_list].reset_index(drop=True))\n",
        "        group_counts[i] = group_count\n",
        "        group_approved_list = (group_list & approved_list)\n",
        "        group_approved_count = len(df[group_approved_list].reset_index(drop=True))\n",
        "        group_approved_counts[i] = group_approved_count\n",
        "        group_approval_rate = group_approved_count / group_count * 100\n",
        "        print(f\"group_name = {group_name:50} has {group_counts[i]:9} members and {group_approved_counts[i]:9} members were approved for loans. this rate is {group_approval_rate:04.2f}%, which is {group_approval_rate - approval_rate:+05.2f}% the global approval rate\")"
      ],
      "metadata": {
        "id": "ikEWVtWxqxzk"
      },
      "execution_count": null,
      "outputs": []
    },
    {
      "cell_type": "code",
      "source": [
        "approved_list = df.action_taken == 1\n",
        "approval_count = len(df[approved_list].reset_index(drop=True))\n",
        "approval_rate = approval_count / len(df) * 100\n",
        "print(f\"the overall approval rate is {approval_rate:05.2f}\")"
      ],
      "metadata": {
        "colab": {
          "base_uri": "https://localhost:8080/"
        },
        "id": "911oHc_Gq4My",
        "outputId": "28f219ca-efe1-417a-af79-6615b9905592"
      },
      "execution_count": null,
      "outputs": [
        {
          "output_type": "stream",
          "name": "stdout",
          "text": [
            "the overall approval rate is 85.23\n"
          ]
        }
      ]
    },
    {
      "cell_type": "code",
      "source": [
        "approval_rate_by_chosen_field(chosen_field = 'derived_sex')"
      ],
      "metadata": {
        "colab": {
          "base_uri": "https://localhost:8080/"
        },
        "id": "Jq0zkhq3q8ku",
        "outputId": "c6601dd4-4913-4377-cc04-85a4f7d7a7e3"
      },
      "execution_count": null,
      "outputs": [
        {
          "output_type": "stream",
          "name": "stdout",
          "text": [
            "We have 3 groups of values in 'derived_sex'\n",
            "group_name = Female                                             has    162703 members and    134832 members were approved for loans. this rate is 82.87%, which is -2.36% the global approval rate\n",
            "group_name = Joint                                              has    366999 members and    323006 members were approved for loans. this rate is 88.01%, which is +2.78% the global approval rate\n",
            "group_name = Male                                               has    223808 members and    184395 members were approved for loans. this rate is 82.39%, which is -2.84% the global approval rate\n"
          ]
        }
      ]
    },
    {
      "cell_type": "code",
      "source": [
        "approval_rate_by_chosen_field(chosen_field = 'derived_race')"
      ],
      "metadata": {
        "colab": {
          "base_uri": "https://localhost:8080/"
        },
        "id": "Kntpmm-LrAAs",
        "outputId": "58c18f05-2d2a-4278-d6b5-5618e3459fd4"
      },
      "execution_count": null,
      "outputs": [
        {
          "output_type": "stream",
          "name": "stdout",
          "text": [
            "We have 7 groups of values in 'derived_race'\n",
            "group_name = 2 or more minority races                           has      1083 members and       835 members were approved for loans. this rate is 77.10%, which is -8.13% the global approval rate\n",
            "group_name = American Indian or Alaska Native                   has      5469 members and      4117 members were approved for loans. this rate is 75.28%, which is -9.95% the global approval rate\n",
            "group_name = Asian                                              has     37689 members and     31361 members were approved for loans. this rate is 83.21%, which is -2.02% the global approval rate\n",
            "group_name = Black or African American                          has      8552 members and      6686 members were approved for loans. this rate is 78.18%, which is -7.05% the global approval rate\n",
            "group_name = Joint                                              has     26146 members and     22728 members were approved for loans. this rate is 86.93%, which is +1.70% the global approval rate\n",
            "group_name = Native Hawaiian or Other Pacific Islander          has      2278 members and      1720 members were approved for loans. this rate is 75.50%, which is -9.73% the global approval rate\n",
            "group_name = White                                              has    672293 members and    574786 members were approved for loans. this rate is 85.50%, which is +0.26% the global approval rate\n"
          ]
        }
      ]
    },
    {
      "cell_type": "code",
      "source": [
        "approval_rate_by_chosen_field(chosen_field = 'derived_ethnicity')"
      ],
      "metadata": {
        "colab": {
          "base_uri": "https://localhost:8080/"
        },
        "id": "7AxnuGdhrDEf",
        "outputId": "942c7da6-b2b3-4822-db97-333da51c92a0"
      },
      "execution_count": null,
      "outputs": [
        {
          "output_type": "stream",
          "name": "stdout",
          "text": [
            "We have 3 groups of values in 'derived_ethnicity'\n",
            "group_name = Hispanic or Latino                                 has     36559 members and     28835 members were approved for loans. this rate is 78.87%, which is -6.36% the global approval rate\n",
            "group_name = Joint                                              has     20711 members and     17829 members were approved for loans. this rate is 86.08%, which is +0.85% the global approval rate\n",
            "group_name = Not Hispanic or Latino                             has    696240 members and    595569 members were approved for loans. this rate is 85.54%, which is +0.31% the global approval rate\n"
          ]
        }
      ]
    }
  ]
}