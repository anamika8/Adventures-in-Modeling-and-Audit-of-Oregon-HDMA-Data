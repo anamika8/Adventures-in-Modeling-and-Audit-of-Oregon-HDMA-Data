{
  "nbformat": 4,
  "nbformat_minor": 0,
  "metadata": {
    "colab": {
      "provenance": []
    },
    "kernelspec": {
      "name": "python3",
      "display_name": "Python 3"
    },
    "language_info": {
      "name": "python"
    }
  },
  "cells": [
    {
      "cell_type": "code",
      "execution_count": null,
      "metadata": {
        "id": "mtoUlMi7yN_N"
      },
      "outputs": [],
      "source": [
        "import numpy as np\n",
        "import pandas as pd\n",
        "import tensorflow as tf\n",
        "\n",
        "from sklearn.model_selection import train_test_split\n",
        "from sklearn.preprocessing import MinMaxScaler\n",
        "from sklearn.preprocessing import StandardScaler\n",
        "from sklearn.preprocessing import MaxAbsScaler\n",
        "from sklearn.metrics import confusion_matrix\n",
        "from sklearn.utils.class_weight import compute_class_weight\n",
        "\n",
        "from tensorflow.keras.models import Sequential\n",
        "from tensorflow.keras.layers import Dense"
      ]
    },
    {
      "cell_type": "code",
      "source": [
        "from google.colab import drive\n",
        "drive.mount('/content/drive')"
      ],
      "metadata": {
        "colab": {
          "base_uri": "https://localhost:8080/"
        },
        "id": "qF4mROar2fC0",
        "outputId": "7cb3262d-e9e5-4881-9f01-92ec22bb1940"
      },
      "execution_count": null,
      "outputs": [
        {
          "output_type": "stream",
          "name": "stdout",
          "text": [
            "Drive already mounted at /content/drive; to attempt to forcibly remount, call drive.mount(\"/content/drive\", force_remount=True).\n"
          ]
        }
      ]
    },
    {
      "cell_type": "markdown",
      "source": [
        "# Problem Statement"
      ],
      "metadata": {
        "id": "XXtvazc1y8Gj"
      }
    },
    {
      "cell_type": "markdown",
      "source": [
        "## Background\n",
        "\n",
        "\"The Home Mortgage Disclosure Act (HMDA) requires many financial institutions to maintain, report, and publicly disclose loan-level information about mortgages. These data help show whether lenders are serving the housing needs of their communities; they give public officials information that helps them make decisions and policies; and they shed light on lending patterns that could be discriminatory. The public data are modified to protect applicant and borrower privacy.\n",
        "\n",
        "HMDA was originally enacted by Congress in 1975 and is implemented by Regulation C.\" - [source](https://www.consumerfinance.gov/data-research/hmda/)"
      ],
      "metadata": {
        "id": "i1TikbUAy6XH"
      }
    },
    {
      "cell_type": "markdown",
      "source": [
        "## Resources\n",
        "\n",
        "[Download the Dataset](https://ffiec.cfpb.gov/data-browser/data/2021?category=states&items=OR)\n",
        "\n",
        "[2021 HMDA Documentation](https://ffiec.cfpb.gov/documentation/2021/)\n",
        "\n",
        "[2021 data-feild specification](https://ffiec.cfpb.gov/documentation/2021/lar-data-fields/)\n",
        "\n",
        "[2021 HMDA Guide](https://www.ffiec.gov/hmda/pdf/2021Guide.pdf)"
      ],
      "metadata": {
        "id": "beNtre6jzEkj"
      }
    },
    {
      "cell_type": "markdown",
      "source": [
        "## Design\n",
        "\n",
        "classifier 1: predict \"action taken\" column which is either\n",
        "\n",
        "\n",
        "* Labels\n",
        "    * Positive\n",
        "        * code 1 - Loan originated \n",
        "        * code 2 - Approved but not accepted \n",
        "          (Note: this counts, because we are focused on loan /approval/, more than loans approved-and-accepted)\n",
        "    * Negative\n",
        "        * code 3 - Loan Denied \n",
        "          (See denail-reason for more information)\n",
        "\n",
        "\n",
        "* Feature columns\n",
        "    * Business_or_commercial_purpose\n",
        "    * loan_to_value_ratio (aka Combined_loan_to_value_ratio)\n",
        "    * interest_rate\n",
        "    * hoepa_status\n",
        "    * loan_term\n",
        "    * property_value\n",
        "    * construction_method\n",
        "    * property_value\n",
        "    * occupancy_type\n",
        "    * income\n",
        "    * debt_to_income_ratio\n",
        "    * submission_of_application\n",
        "    * aus-1\n",
        "\n",
        "\n",
        "* protected classes:\n",
        "    * race\n",
        "    * ethnicity\n",
        "    * gender\n",
        "    * age\n",
        "    * tract_minority_population_percent\n",
        "    * other \"tract\" columns"
      ],
      "metadata": {
        "id": "F85g5JMCzPQf"
      }
    },
    {
      "cell_type": "markdown",
      "source": [
        "# Data Loading"
      ],
      "metadata": {
        "id": "j1JkZqW2z5fJ"
      }
    },
    {
      "cell_type": "code",
      "source": [
        "path = '/content/drive/MyDrive/CS510_CulturalCompetenceInComputing/Final submission/'"
      ],
      "metadata": {
        "id": "pU460j3U0BGM"
      },
      "execution_count": null,
      "outputs": []
    },
    {
      "cell_type": "code",
      "source": [
        "filename = path + 'df.csv'\n",
        "df = pd.read_csv(filename)#.reset_index(drop=True)\n",
        "print('Data Loaded from:', filename)"
      ],
      "metadata": {
        "colab": {
          "base_uri": "https://localhost:8080/"
        },
        "id": "Qz7CnqJy0F3W",
        "outputId": "724946df-70a1-48b5-b222-7421c34e62ef"
      },
      "execution_count": null,
      "outputs": [
        {
          "output_type": "stream",
          "name": "stdout",
          "text": [
            "Data Loaded from: /content/drive/MyDrive/CS510_CulturalCompetenceInComputing/Final submission/df.csv\n"
          ]
        }
      ]
    },
    {
      "cell_type": "markdown",
      "source": [
        "# Data Splitting"
      ],
      "metadata": {
        "id": "koMDVyEF0KFf"
      }
    },
    {
      "cell_type": "code",
      "source": [
        "input_features = [\n",
        "        'loan_type',\n",
        "        'loan_purpose',\n",
        "        'business_or_commercial_purpose',\n",
        "        'loan_to_value_ratio',\n",
        "        'interest_rate',\n",
        "        'hoepa_status',\n",
        "        'loan_term',\n",
        "        'property_value',\n",
        "        'construction_method',\n",
        "        'occupancy_type',\n",
        "        'income',\n",
        "        'debt_to_income_ratio',\n",
        "        'submission_of_application',\n",
        "        'aus-1'\n",
        "]\n",
        "\n",
        "label_features = ['action_taken']\n",
        "\n",
        "audit_features = [\n",
        "    'derived_sex',\n",
        "    'derived_race',\n",
        "    'derived_ethnicity'\n",
        "]"
      ],
      "metadata": {
        "id": "nsn55Y2H0MP9"
      },
      "execution_count": null,
      "outputs": []
    },
    {
      "cell_type": "code",
      "source": [
        "df_input = df[input_features]\n",
        "df_label = df[label_features]\n",
        "df_audit = df[audit_features]"
      ],
      "metadata": {
        "id": "9gkhtyV10Vnx"
      },
      "execution_count": null,
      "outputs": []
    },
    {
      "cell_type": "code",
      "source": [
        "filename = path + 'df-input_with-bias-mitigation.csv'\n",
        "df_input.to_csv(filename, index=False)\n",
        "print('Data Saved to:', filename)\n",
        "\n",
        "filename = path + 'df-label_with-bias-mitigation.csv'\n",
        "df_label.to_csv(filename, index=False)\n",
        "print('Data Saved to:', filename)\n",
        "\n",
        "filename = path + 'df-audit_with-bias-mitigation.csv'\n",
        "df_audit.to_csv(filename, index=False)\n",
        "print('Data Saved to:', filename)"
      ],
      "metadata": {
        "colab": {
          "base_uri": "https://localhost:8080/"
        },
        "id": "uH37WPn70Wy-",
        "outputId": "9e2f6773-e679-4bc0-d226-961699af41c1"
      },
      "execution_count": null,
      "outputs": [
        {
          "output_type": "stream",
          "name": "stdout",
          "text": [
            "Data Saved to: /content/drive/MyDrive/CS510_CulturalCompetenceInComputing/Final submission/df-input_with-bias-mitigation.csv\n",
            "Data Saved to: /content/drive/MyDrive/CS510_CulturalCompetenceInComputing/Final submission/df-label_with-bias-mitigation.csv\n",
            "Data Saved to: /content/drive/MyDrive/CS510_CulturalCompetenceInComputing/Final submission/df-audit_with-bias-mitigation.csv\n"
          ]
        }
      ]
    },
    {
      "cell_type": "code",
      "source": [
        "n = len(df)\n",
        "split_index = int(0.75 * n)\n",
        "x_train = df_input[:split_index]\n",
        "x_test  = df_input[split_index+1:]\n",
        "y_train = df_label[:split_index]\n",
        "y_test  = df_label[split_index+1:]\n",
        "z_train = df_audit[:split_index]\n",
        "z_test  = df_audit[split_index+1:]\n",
        "\n",
        "print(f\"x_train = {x_train.shape}\")\n",
        "print(f\"y_train = {y_train.shape}\")\n",
        "print(f\"z_train = {z_train.shape}\")\n",
        "print(f\"x_test  = {x_test.shape}\")\n",
        "print(f\"y_test  = {y_test.shape}\")\n",
        "print(f\"z_test  = {z_test.shape}\")"
      ],
      "metadata": {
        "colab": {
          "base_uri": "https://localhost:8080/"
        },
        "id": "nZjuwNRi0cEI",
        "outputId": "e86967bd-7554-4651-c974-6e6059ceafc5"
      },
      "execution_count": null,
      "outputs": [
        {
          "output_type": "stream",
          "name": "stdout",
          "text": [
            "x_train = (565132, 14)\n",
            "y_train = (565132, 1)\n",
            "z_train = (565132, 3)\n",
            "x_test  = (188377, 14)\n",
            "y_test  = (188377, 1)\n",
            "z_test  = (188377, 3)\n"
          ]
        }
      ]
    },
    {
      "cell_type": "code",
      "source": [
        "filename = path + 'x_train_with-bias-mitigation.csv'\n",
        "x_train.to_csv(filename, index=False)\n",
        "print('Data Saved to:', filename)\n",
        "\n",
        "filename = path + 'x_test_with-bias-mitigation.csv'\n",
        "x_test.to_csv(filename, index=False)\n",
        "print('Data Saved to:', filename)\n",
        "\n",
        "\n",
        "filename = path + 'y_train_with-bias-mitigation.csv'\n",
        "y_train.to_csv(filename, index=False)\n",
        "print('Data Saved to:', filename)\n",
        "\n",
        "filename = path + 'y_test_with-bias-mitigation.csv'\n",
        "y_test.to_csv(filename, index=False)\n",
        "print('Data Saved to:', filename)\n",
        "\n",
        "\n",
        "filename = path + 'z_train_with-bias-mitigation.csv'\n",
        "z_train.to_csv(filename, index=False)\n",
        "print('Data Saved to:', filename)\n",
        "\n",
        "filename = path + 'z_test_with-bias-mitigation.csv'\n",
        "z_test.to_csv(filename, index=False)\n",
        "print('Data Saved to:', filename)"
      ],
      "metadata": {
        "colab": {
          "base_uri": "https://localhost:8080/"
        },
        "id": "2HYgr-2O0ezv",
        "outputId": "c8c21628-3abc-44ad-8390-645db89eac62"
      },
      "execution_count": null,
      "outputs": [
        {
          "output_type": "stream",
          "name": "stdout",
          "text": [
            "Data Saved to: /content/drive/MyDrive/CS510_CulturalCompetenceInComputing/Final submission/x_train_with-bias-mitigation.csv\n",
            "Data Saved to: /content/drive/MyDrive/CS510_CulturalCompetenceInComputing/Final submission/x_test_with-bias-mitigation.csv\n",
            "Data Saved to: /content/drive/MyDrive/CS510_CulturalCompetenceInComputing/Final submission/y_train_with-bias-mitigation.csv\n",
            "Data Saved to: /content/drive/MyDrive/CS510_CulturalCompetenceInComputing/Final submission/y_test_with-bias-mitigation.csv\n",
            "Data Saved to: /content/drive/MyDrive/CS510_CulturalCompetenceInComputing/Final submission/z_train_with-bias-mitigation.csv\n",
            "Data Saved to: /content/drive/MyDrive/CS510_CulturalCompetenceInComputing/Final submission/z_test_with-bias-mitigation.csv\n"
          ]
        }
      ]
    },
    {
      "cell_type": "markdown",
      "source": [
        "# Define the Model"
      ],
      "metadata": {
        "id": "tYGvemXZ0kxz"
      }
    },
    {
      "cell_type": "code",
      "source": [
        "def model_training(x, y, feature_selection, epochs, batch_size):\n",
        "    x_train, x_test = x[0], x[1]\n",
        "    y_train, y_test = y[0], y[1]\n",
        "\n",
        "    class_weights = compute_class_weight('balanced', classes=np.unique(y_train), y=y_train.to_numpy().flatten())\n",
        "    class_weights = dict(zip(np.unique(y_train), class_weights))\n",
        "    print(f\"class_weights = {class_weights}\")\n",
        "\n",
        "    x_train = x_train[feature_selection].to_numpy()\n",
        "    x_test  = x_test[feature_selection].to_numpy()\n",
        "    y_train = y_train.to_numpy()\n",
        "    y_test  = y_test.to_numpy()\n",
        "\n",
        "    feature_count = len(feature_selection)\n",
        "\n",
        "    # define the keras model\n",
        "    model = Sequential()\n",
        "    model.add(Dense(8, input_shape=(feature_count,), activation='tanh'))\n",
        "    model.add(Dense(1, activation='sigmoid'))\n",
        "\n",
        "    metrics = ['accuracy']\n",
        "\n",
        "    # compile the keras model\n",
        "    model.compile(loss='binary_crossentropy', optimizer='adam', metrics=metrics)\n",
        "\n",
        "    # print the model summary\n",
        "    print()\n",
        "    model.summary()\n",
        "    print()\n",
        "\n",
        "    # fit the keras model on the dataset\n",
        "    model.fit(x_train, y_train, epochs=epochs, batch_size=batch_size, verbose=1, class_weight=class_weights)\n",
        "\n",
        "    print()\n",
        "    y_pred = (model.predict(x_test) > 0.5).astype(\"int32\")\n",
        "    print(f\"y_pred.shape = {y_pred.shape}\")\n",
        "    print()\n",
        "    cm = confusion_matrix(y_test, y_pred)\n",
        "    print(cm)\n",
        "\n",
        "    print()\n",
        "    tn, fp, fn, tp = cm.ravel() # from the docs\n",
        "    print(f\"tp = {tp:8} ~ {tp/cm.sum()*100:06.3f}%\")\n",
        "    print(f\"tn = {tn:8} ~ {tn/cm.sum()*100:06.3f}%\")\n",
        "    print(f\"fp = {fp:8} ~ {fp/cm.sum()*100:06.3f}%\")\n",
        "    print(f\"fn = {fn:8} ~ {fn/cm.sum()*100:06.3f}%\")\n",
        "    print()\n",
        "    print(\"Sensitivity (true positive rate) refers to the probability of a positive test, conditioned on truly being positive.\")\n",
        "    print(f\"Sensitivity (tpr) = {tp:8} / {tp+fn:8} ~ {tp/(tp+fn)*100:06.3f}%\")\n",
        "    print(\"Specificity (true negative rate) refers to the probability of a negative test, conditioned on truly being negative.\")\n",
        "    print(f\"Specificity (tnr) = {tn:8} / {tn+fp:8} ~ {tn/(tn+fp)*100:06.3f}%\")\n",
        "\n",
        "    return model, y_pred"
      ],
      "metadata": {
        "id": "z_26SAQM0l9C"
      },
      "execution_count": null,
      "outputs": []
    },
    {
      "cell_type": "markdown",
      "source": [
        "# Execution"
      ],
      "metadata": {
        "id": "YzisZuJ-0vrc"
      }
    },
    {
      "cell_type": "code",
      "source": [
        "feature_list = [\n",
        "    'loan_type',\n",
        "    'loan_purpose',\n",
        "    'business_or_commercial_purpose',\n",
        "    'loan_to_value_ratio',\n",
        "    #'interest_rate',\n",
        "    'hoepa_status',\n",
        "    #'loan_term',\n",
        "    'property_value',\n",
        "    'construction_method', \n",
        "    'occupancy_type',\n",
        "    'income',\n",
        "    'debt_to_income_ratio',\n",
        "    'submission_of_application',\n",
        "    'aus-1'\n",
        "]\n",
        "\n",
        "model, prediction = model_training((x_train, x_test), (y_train, y_test), feature_list, epochs=10, batch_size=256)"
      ],
      "metadata": {
        "colab": {
          "base_uri": "https://localhost:8080/"
        },
        "id": "9EDlZbTv0tz3",
        "outputId": "aba3adde-9b71-481c-a7d4-94765ebce6e5"
      },
      "execution_count": null,
      "outputs": [
        {
          "output_type": "stream",
          "name": "stdout",
          "text": [
            "class_weights = {0: 3.388528462986725, 1: 0.586549259667499}\n",
            "\n",
            "Model: \"sequential\"\n",
            "_________________________________________________________________\n",
            " Layer (type)                Output Shape              Param #   \n",
            "=================================================================\n",
            " dense (Dense)               (None, 8)                 104       \n",
            "                                                                 \n",
            " dense_1 (Dense)             (None, 1)                 9         \n",
            "                                                                 \n",
            "=================================================================\n",
            "Total params: 113\n",
            "Trainable params: 113\n",
            "Non-trainable params: 0\n",
            "_________________________________________________________________\n",
            "\n",
            "Epoch 1/10\n",
            "2208/2208 [==============================] - 8s 3ms/step - loss: 0.1755 - accuracy: 0.9149\n",
            "Epoch 2/10\n",
            "2208/2208 [==============================] - 6s 3ms/step - loss: 0.1244 - accuracy: 0.9362\n",
            "Epoch 3/10\n",
            "2208/2208 [==============================] - 5s 2ms/step - loss: 0.1221 - accuracy: 0.9380\n",
            "Epoch 4/10\n",
            "2208/2208 [==============================] - 5s 2ms/step - loss: 0.1210 - accuracy: 0.9390\n",
            "Epoch 5/10\n",
            "2208/2208 [==============================] - 6s 3ms/step - loss: 0.1203 - accuracy: 0.9400\n",
            "Epoch 6/10\n",
            "2208/2208 [==============================] - 5s 2ms/step - loss: 0.1198 - accuracy: 0.9407\n",
            "Epoch 7/10\n",
            "2208/2208 [==============================] - 6s 3ms/step - loss: 0.1194 - accuracy: 0.9407\n",
            "Epoch 8/10\n",
            "2208/2208 [==============================] - 6s 3ms/step - loss: 0.1192 - accuracy: 0.9411\n",
            "Epoch 9/10\n",
            "2208/2208 [==============================] - 5s 2ms/step - loss: 0.1190 - accuracy: 0.9415\n",
            "Epoch 10/10\n",
            "2208/2208 [==============================] - 6s 3ms/step - loss: 0.1188 - accuracy: 0.9414\n",
            "\n",
            "5887/5887 [==============================] - 8s 1ms/step\n",
            "y_pred.shape = (188377, 1)\n",
            "\n",
            "[[ 27330    558]\n",
            " [  9838 150651]]\n",
            "\n",
            "tp =   150651 ~ 79.973%\n",
            "tn =    27330 ~ 14.508%\n",
            "fp =      558 ~ 00.296%\n",
            "fn =     9838 ~ 05.223%\n",
            "\n",
            "Sensitivity (true positive rate) refers to the probability of a positive test, conditioned on truly being positive.\n",
            "Sensitivity (tpr) =   150651 /   160489 ~ 93.870%\n",
            "Specificity (true negative rate) refers to the probability of a negative test, conditioned on truly being negative.\n",
            "Specificity (tnr) =    27330 /    27888 ~ 97.999%\n"
          ]
        }
      ]
    },
    {
      "cell_type": "markdown",
      "source": [
        "# Post Processing"
      ],
      "metadata": {
        "id": "IXObn-xe049R"
      }
    },
    {
      "cell_type": "code",
      "source": [
        "df_output = pd.DataFrame()\n",
        "\n",
        "for column in x_test:\n",
        "    df_output[column] = x_test[column]\n",
        "\n",
        "df_output['label_value'] = y_test\n",
        "\n",
        "df_output['score'] = prediction\n",
        "\n",
        "for column in z_test:\n",
        "    df_output[column] = z_test[column]\n",
        "\n",
        "df_output = df_output.reset_index(drop=True)"
      ],
      "metadata": {
        "id": "obiqN1rV06HF"
      },
      "execution_count": null,
      "outputs": []
    },
    {
      "cell_type": "code",
      "source": [
        "filename = path + 'df_output_with-bias-mitigation.csv'\n",
        "df_output.to_csv(filename, index=False)\n",
        "print('Data Saved to:', filename)"
      ],
      "metadata": {
        "colab": {
          "base_uri": "https://localhost:8080/"
        },
        "id": "X9MZSxfP09EA",
        "outputId": "44172568-bd8d-411e-e32d-6eb442b538eb"
      },
      "execution_count": null,
      "outputs": [
        {
          "output_type": "stream",
          "name": "stdout",
          "text": [
            "Data Saved to: /content/drive/MyDrive/CS510_CulturalCompetenceInComputing/Final submission/df_output_with-bias-mitigation.csv\n"
          ]
        }
      ]
    },
    {
      "cell_type": "markdown",
      "source": [
        "# Bias Measurements"
      ],
      "metadata": {
        "id": "Cy7fjjq-1Do3"
      }
    },
    {
      "cell_type": "code",
      "source": [
        "approved_list = df.action_taken == 1\n",
        "approval_count = len(df[approved_list].reset_index(drop=True))\n",
        "approval_rate = approval_count / len(df) * 100\n",
        "print(f\"the overall approval rate is {approval_rate:05.2f}%, which is {approval_count} approvals over {len(df)} applications\")"
      ],
      "metadata": {
        "colab": {
          "base_uri": "https://localhost:8080/"
        },
        "id": "EFU0m3o01HoH",
        "outputId": "6e1887f8-740c-453e-8603-830208e8ca34"
      },
      "execution_count": null,
      "outputs": [
        {
          "output_type": "stream",
          "name": "stdout",
          "text": [
            "the overall approval rate is 85.23%, which is 642233 approvals over 753510 applications\n"
          ]
        }
      ]
    },
    {
      "cell_type": "code",
      "source": [
        "def approval_rate_by_chosen_field(df, chosen_field, ref):\n",
        "    field_group = df.groupby(by=chosen_field)\n",
        "    #print(field_group.size())\n",
        "    #print(field_group.size().sum())\n",
        "\n",
        "    group_count = len(field_group)\n",
        "    print(f\"We have {group_count} groups of values in '{chosen_field}'\")\n",
        "    print()\n",
        "\n",
        "    TP = [None] * group_count\n",
        "    TN = [None] * group_count\n",
        "    FP = [None] * group_count\n",
        "    FN = [None] * group_count\n",
        "    PP = [None] * group_count\n",
        "    PN = [None] * group_count\n",
        "    P  = [None] * group_count\n",
        "    N  = [None] * group_count\n",
        "\n",
        "    TPR = [None] * group_count\n",
        "    FPR = [None] * group_count\n",
        "    TNR = [None] * group_count\n",
        "    FNR = [None] * group_count\n",
        "    FDR = [None] * group_count\n",
        "    FOR = [None] * group_count\n",
        "    PPV = [None] * group_count\n",
        "    NPV = [None] * group_count\n",
        "\n",
        "    GSR  = [None] * group_count\n",
        "    PPR  = [None] * group_count\n",
        "    PPGR = [None] * group_count\n",
        "\n",
        "    for i, group_name in enumerate(field_group.groups):\n",
        "        # find the index of 'ref' on our first loop through the groups.\n",
        "        #   used in the next loop to give disparity rates.\n",
        "        if group_name == ref: j = i\n",
        "\n",
        "        y = df[chosen_field] == group_name\n",
        "        y_pred = df[y]['score'].reset_index(drop=True)\n",
        "        y_test = df[y]['label_value'].reset_index(drop=True)\n",
        "        cm = confusion_matrix(y_test, y_pred)\n",
        "\n",
        "        TN[i], FP[i], FN[i], TP[i] = cm.ravel() # from the docs\n",
        "        PP[i] = FP[i] + TP[i] # used\n",
        "        PN[i] = FN[i] + TN[i] # used\n",
        "        P[i]  = TP[i] + FN[i] # used\n",
        "        N[i]  = FP[i] + TN[i] # used\n",
        "\n",
        "        #TPR[i] = TP[i] /  P[i]\n",
        "        FPR[i] = FP[i] /  N[i] # used\n",
        "        #TNR[i] = TN[i] /  N[i]\n",
        "        FNR[i] = FN[i] /  P[i] # used\n",
        "        FDR[i] = FP[i] / PP[i] # used\n",
        "        FOR[i] = FN[i] / PN[i] # used\n",
        "        #PPV[i] = TP[i] / PP[i]\n",
        "        #NPV[i] = TN[i] / PN[i]\n",
        "\n",
        "    print('Group Metrics---------------------------------------------------------------------------------------------------------------------------')\n",
        "    for i, group_name in enumerate(field_group.groups):\n",
        "        group_size = len(df[df[chosen_field] == group_name])\n",
        "        GSR[i]  = group_size/len(df)\n",
        "        PPR[i]  = PP[i]/sum(PP)\n",
        "        PPGR[i] = PP[i]/group_size\n",
        "\n",
        "        print(f\"{group_name:50}  \", end='')\n",
        "        print(f\"GSR = {GSR[i]:04.2f}  \", end='')\n",
        "        print(f\"PPR = {PPR[i]:04.2f}  \", end='')\n",
        "        print(f\"PPGR = {PPGR[i]:04.2f}  \", end='')\n",
        "        print(f\"FDR = {FDR[i]:04.2f}  \", end='')\n",
        "        print(f\"FPR = {FPR[i]:04.2f}  \", end='')\n",
        "        print(f\"FOR = {FOR[i]:04.2f}  \", end='')\n",
        "        print(f\"FNR = {FNR[i]:04.2f}  \", end='')\n",
        "        print()\n",
        "\n",
        "    print('Disparity/Bias Metrics------------------------------------------------------------------------------------------------------------------')\n",
        "    for i, group_name in enumerate(field_group.groups):\n",
        "        print(f\"{group_name:50}  \", end='')\n",
        "        print(f\"PPR_d  = {PPR[i] / PPR[j]:04.2f}  \", end='')\n",
        "        print(f\"PPGR_d = {PPGR[i] / PPGR[j]:04.2f}  \", end='')\n",
        "        print(f\"FDR_d = {FDR[i] / FDR[j]:04.2f}  \", end='')\n",
        "        print(f\"FPR_d = {FPR[i] / FPR[j]:04.2f}  \", end='')\n",
        "        print(f\"FOR_d = {FOR[i] / FOR[j]:04.2f}  \", end='')\n",
        "        print(f\"FNR_d = {FNR[i] / FNR[j]:04.2f}  \", end='')\n",
        "        print()\n"
      ],
      "metadata": {
        "id": "QLoUckl11NrZ"
      },
      "execution_count": null,
      "outputs": []
    },
    {
      "cell_type": "code",
      "source": [
        "approval_rate_by_chosen_field(df_output, chosen_field = 'derived_sex', ref='Male')"
      ],
      "metadata": {
        "colab": {
          "base_uri": "https://localhost:8080/"
        },
        "id": "2inRxe-N1Xlb",
        "outputId": "bd465e35-0437-4c27-fca9-b67251e3162e"
      },
      "execution_count": null,
      "outputs": [
        {
          "output_type": "stream",
          "name": "stdout",
          "text": [
            "We have 3 groups of values in 'derived_sex'\n",
            "\n",
            "Group Metrics---------------------------------------------------------------------------------------------------------------------------\n",
            "Female                                              GSR = 0.22  PPR = 0.21  PPGR = 0.78  FDR = 0.00  FPR = 0.02  FOR = 0.24  FNR = 0.06  \n",
            "Joint                                               GSR = 0.49  PPR = 0.51  PPGR = 0.83  FDR = 0.00  FPR = 0.02  FOR = 0.30  FNR = 0.06  \n",
            "Male                                                GSR = 0.30  PPR = 0.28  PPGR = 0.77  FDR = 0.00  FPR = 0.02  FOR = 0.24  FNR = 0.07  \n",
            "Disparity/Bias Metrics------------------------------------------------------------------------------------------------------------------\n",
            "Female                                              PPR_d  = 0.74  PPGR_d = 1.01  FDR_d = 0.88  FPR_d = 0.92  FOR_d = 1.00  FNR_d = 0.96  \n",
            "Joint                                               PPR_d  = 1.78  PPGR_d = 1.08  FDR_d = 0.79  FPR_d = 1.25  FOR_d = 1.22  FNR_d = 0.83  \n",
            "Male                                                PPR_d  = 1.00  PPGR_d = 1.00  FDR_d = 1.00  FPR_d = 1.00  FOR_d = 1.00  FNR_d = 1.00  \n"
          ]
        }
      ]
    },
    {
      "cell_type": "code",
      "source": [
        "approval_rate_by_chosen_field(df_output, chosen_field = 'derived_race', ref='White')"
      ],
      "metadata": {
        "colab": {
          "base_uri": "https://localhost:8080/"
        },
        "id": "siT1LMnB1a28",
        "outputId": "12ec4c6f-70d0-40ba-81bd-65e2350f5078"
      },
      "execution_count": null,
      "outputs": [
        {
          "output_type": "stream",
          "name": "stdout",
          "text": [
            "We have 7 groups of values in 'derived_race'\n",
            "\n",
            "Group Metrics---------------------------------------------------------------------------------------------------------------------------\n",
            "2 or more minority races                            GSR = 0.00  PPR = 0.00  PPGR = 0.73  FDR = 0.01  FPR = 0.02  FOR = 0.13  FNR = 0.05  \n",
            "American Indian or Alaska Native                    GSR = 0.01  PPR = 0.01  PPGR = 0.70  FDR = 0.01  FPR = 0.02  FOR = 0.20  FNR = 0.08  \n",
            "Asian                                               GSR = 0.05  PPR = 0.05  PPGR = 0.79  FDR = 0.01  FPR = 0.03  FOR = 0.24  FNR = 0.06  \n",
            "Black or African American                           GSR = 0.01  PPR = 0.01  PPGR = 0.73  FDR = 0.01  FPR = 0.03  FOR = 0.24  FNR = 0.08  \n",
            "Joint                                               GSR = 0.03  PPR = 0.04  PPGR = 0.83  FDR = 0.00  FPR = 0.02  FOR = 0.25  FNR = 0.05  \n",
            "Native Hawaiian or Other Pacific Islander           GSR = 0.00  PPR = 0.00  PPGR = 0.71  FDR = 0.00  FPR = 0.01  FOR = 0.22  FNR = 0.08  \n",
            "White                                               GSR = 0.89  PPR = 0.90  PPGR = 0.80  FDR = 0.00  FPR = 0.02  FOR = 0.27  FNR = 0.06  \n",
            "Disparity/Bias Metrics------------------------------------------------------------------------------------------------------------------\n",
            "2 or more minority races                            PPR_d  = 0.00  PPGR_d = 0.91  FDR_d = 1.57  FPR_d = 0.88  FOR_d = 0.49  FNR_d = 0.75  \n",
            "American Indian or Alaska Native                    PPR_d  = 0.01  PPGR_d = 0.87  FDR_d = 2.33  FPR_d = 1.20  FOR_d = 0.74  FNR_d = 1.29  \n",
            "Asian                                               PPR_d  = 0.05  PPGR_d = 0.98  FDR_d = 2.16  FPR_d = 1.83  FOR_d = 0.88  FNR_d = 0.99  \n",
            "Black or African American                           PPR_d  = 0.01  PPGR_d = 0.90  FDR_d = 2.78  FPR_d = 1.70  FOR_d = 0.88  FNR_d = 1.33  \n",
            "Joint                                               PPR_d  = 0.04  PPGR_d = 1.03  FDR_d = 0.98  FPR_d = 1.11  FOR_d = 0.94  FNR_d = 0.82  \n",
            "Native Hawaiian or Other Pacific Islander           PPR_d  = 0.00  PPGR_d = 0.89  FDR_d = 0.74  FPR_d = 0.42  FOR_d = 0.81  FNR_d = 1.32  \n",
            "White                                               PPR_d  = 1.00  PPGR_d = 1.00  FDR_d = 1.00  FPR_d = 1.00  FOR_d = 1.00  FNR_d = 1.00  \n"
          ]
        }
      ]
    },
    {
      "cell_type": "code",
      "source": [
        "approval_rate_by_chosen_field(df_output, chosen_field = 'derived_ethnicity', ref='Not Hispanic or Latino')"
      ],
      "metadata": {
        "colab": {
          "base_uri": "https://localhost:8080/"
        },
        "id": "-FabyYsP1dmp",
        "outputId": "9bc105e9-6a78-46af-ff16-363c294905de"
      },
      "execution_count": null,
      "outputs": [
        {
          "output_type": "stream",
          "name": "stdout",
          "text": [
            "We have 3 groups of values in 'derived_ethnicity'\n",
            "\n",
            "Group Metrics---------------------------------------------------------------------------------------------------------------------------\n",
            "Hispanic or Latino                                  GSR = 0.05  PPR = 0.04  PPGR = 0.75  FDR = 0.00  FPR = 0.01  FOR = 0.19  FNR = 0.06  \n",
            "Joint                                               GSR = 0.03  PPR = 0.03  PPGR = 0.82  FDR = 0.00  FPR = 0.01  FOR = 0.25  FNR = 0.05  \n",
            "Not Hispanic or Latino                              GSR = 0.92  PPR = 0.93  PPGR = 0.81  FDR = 0.00  FPR = 0.02  FOR = 0.27  FNR = 0.06  \n",
            "Disparity/Bias Metrics------------------------------------------------------------------------------------------------------------------\n",
            "Hispanic or Latino                                  PPR_d  = 0.05  PPGR_d = 0.93  FDR_d = 0.58  FPR_d = 0.38  FOR_d = 0.69  FNR_d = 0.96  \n",
            "Joint                                               PPR_d  = 0.03  PPGR_d = 1.01  FDR_d = 0.57  FPR_d = 0.59  FOR_d = 0.91  FNR_d = 0.86  \n",
            "Not Hispanic or Latino                              PPR_d  = 1.00  PPGR_d = 1.00  FDR_d = 1.00  FPR_d = 1.00  FOR_d = 1.00  FNR_d = 1.00  \n"
          ]
        }
      ]
    },
    {
      "cell_type": "markdown",
      "source": [
        "# Report\n",
        "\n",
        "http://aequitas.dssg.io/audit/tf3owqzf/df_output_with-bias-mitigation/report-1.html"
      ],
      "metadata": {
        "id": "3G-pl8m63Zlc"
      }
    }
  ]
}